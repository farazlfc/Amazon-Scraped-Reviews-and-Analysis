{
 "cells": [
  {
   "cell_type": "code",
   "execution_count": 36,
   "metadata": {},
   "outputs": [],
   "source": [
    "import pandas as pd\n",
    "from sklearn.linear_model import LogisticRegression\n",
    "from sklearn.feature_extraction.text import CountVectorizer, TfidfVectorizer\n",
    "from sklearn.decomposition import NMF, LatentDirichletAllocation\n",
    "from sklearn.naive_bayes import MultinomialNB\n",
    "from sklearn.model_selection import train_test_split, cross_val_score\n",
    "from sklearn.model_selection import GridSearchCV\n",
    "from sklearn.metrics import accuracy_score, confusion_matrix, f1_score\n",
    "import numpy as np\n",
    "import matplotlib.pyplot as plt\n",
    "import itertools\n",
    "from nltk.corpus import stopwords \n",
    "from nltk.stem.wordnet import WordNetLemmatizer\n",
    "import string\n",
    "import gensim\n",
    "from gensim import corpora\n",
    "from nltk import FreqDist\n",
    "import seaborn as sns"
   ]
  },
  {
   "cell_type": "code",
   "execution_count": 2,
   "metadata": {},
   "outputs": [],
   "source": [
    "df = pd.read_csv(\"reviewss.csv\")"
   ]
  },
  {
   "cell_type": "code",
   "execution_count": 3,
   "metadata": {},
   "outputs": [],
   "source": [
    "def spaces_strip(text):\n",
    "    return text.strip()"
   ]
  },
  {
   "cell_type": "code",
   "execution_count": 4,
   "metadata": {},
   "outputs": [
    {
     "data": {
      "text/html": [
       "<div>\n",
       "<style scoped>\n",
       "    .dataframe tbody tr th:only-of-type {\n",
       "        vertical-align: middle;\n",
       "    }\n",
       "\n",
       "    .dataframe tbody tr th {\n",
       "        vertical-align: top;\n",
       "    }\n",
       "\n",
       "    .dataframe thead th {\n",
       "        text-align: right;\n",
       "    }\n",
       "</style>\n",
       "<table border=\"1\" class=\"dataframe\">\n",
       "  <thead>\n",
       "    <tr style=\"text-align: right;\">\n",
       "      <th></th>\n",
       "      <th>stars</th>\n",
       "      <th>comment</th>\n",
       "    </tr>\n",
       "  </thead>\n",
       "  <tbody>\n",
       "    <tr>\n",
       "      <th>0</th>\n",
       "      <td>5.0 out of 5 stars</td>\n",
       "      <td>There was no bill of my order in the package.....</td>\n",
       "    </tr>\n",
       "    <tr>\n",
       "      <th>1</th>\n",
       "      <td>5.0 out of 5 stars</td>\n",
       "      <td>I got delivery within one day.overall performa...</td>\n",
       "    </tr>\n",
       "    <tr>\n",
       "      <th>2</th>\n",
       "      <td>1.0 out of 5 stars</td>\n",
       "      <td>Worst experience ever.. I didn't expect this f...</td>\n",
       "    </tr>\n",
       "  </tbody>\n",
       "</table>\n",
       "</div>"
      ],
      "text/plain": [
       "                stars                                            comment\n",
       "0  5.0 out of 5 stars  There was no bill of my order in the package.....\n",
       "1  5.0 out of 5 stars  I got delivery within one day.overall performa...\n",
       "2  1.0 out of 5 stars  Worst experience ever.. I didn't expect this f..."
      ]
     },
     "execution_count": 4,
     "metadata": {},
     "output_type": "execute_result"
    }
   ],
   "source": [
    "df.head(3)"
   ]
  },
  {
   "cell_type": "code",
   "execution_count": 5,
   "metadata": {},
   "outputs": [],
   "source": [
    "df['comment'] = df['comment'].apply(spaces_strip)"
   ]
  },
  {
   "cell_type": "code",
   "execution_count": 6,
   "metadata": {},
   "outputs": [
    {
     "data": {
      "text/html": [
       "<div>\n",
       "<style scoped>\n",
       "    .dataframe tbody tr th:only-of-type {\n",
       "        vertical-align: middle;\n",
       "    }\n",
       "\n",
       "    .dataframe tbody tr th {\n",
       "        vertical-align: top;\n",
       "    }\n",
       "\n",
       "    .dataframe thead th {\n",
       "        text-align: right;\n",
       "    }\n",
       "</style>\n",
       "<table border=\"1\" class=\"dataframe\">\n",
       "  <thead>\n",
       "    <tr style=\"text-align: right;\">\n",
       "      <th></th>\n",
       "      <th>stars</th>\n",
       "      <th>comment</th>\n",
       "    </tr>\n",
       "  </thead>\n",
       "  <tbody>\n",
       "    <tr>\n",
       "      <th>0</th>\n",
       "      <td>5.0 out of 5 stars</td>\n",
       "      <td>There was no bill of my order in the package.....</td>\n",
       "    </tr>\n",
       "    <tr>\n",
       "      <th>1</th>\n",
       "      <td>5.0 out of 5 stars</td>\n",
       "      <td>I got delivery within one day.overall performa...</td>\n",
       "    </tr>\n",
       "    <tr>\n",
       "      <th>2</th>\n",
       "      <td>1.0 out of 5 stars</td>\n",
       "      <td>Worst experience ever.. I didn't expect this f...</td>\n",
       "    </tr>\n",
       "  </tbody>\n",
       "</table>\n",
       "</div>"
      ],
      "text/plain": [
       "                stars                                            comment\n",
       "0  5.0 out of 5 stars  There was no bill of my order in the package.....\n",
       "1  5.0 out of 5 stars  I got delivery within one day.overall performa...\n",
       "2  1.0 out of 5 stars  Worst experience ever.. I didn't expect this f..."
      ]
     },
     "execution_count": 6,
     "metadata": {},
     "output_type": "execute_result"
    }
   ],
   "source": [
    "df.head(3)"
   ]
  },
  {
   "cell_type": "code",
   "execution_count": 7,
   "metadata": {},
   "outputs": [
    {
     "data": {
      "text/plain": [
       "(1000, 2)"
      ]
     },
     "execution_count": 7,
     "metadata": {},
     "output_type": "execute_result"
    }
   ],
   "source": [
    "df.shape"
   ]
  },
  {
   "cell_type": "code",
   "execution_count": 8,
   "metadata": {},
   "outputs": [],
   "source": [
    "df['rating'] = df['stars'].apply(lambda x : int(x.strip()[0]))"
   ]
  },
  {
   "cell_type": "code",
   "execution_count": 9,
   "metadata": {},
   "outputs": [
    {
     "data": {
      "text/plain": [
       "5    727\n",
       "4    141\n",
       "1     68\n",
       "3     45\n",
       "2     19\n",
       "Name: rating, dtype: int64"
      ]
     },
     "execution_count": 9,
     "metadata": {},
     "output_type": "execute_result"
    }
   ],
   "source": [
    "df['rating'].value_counts()"
   ]
  },
  {
   "cell_type": "code",
   "execution_count": 10,
   "metadata": {},
   "outputs": [],
   "source": [
    "def pos_neg_neut(x):\n",
    "    if(x <3):\n",
    "        return 'negative'\n",
    "    if(x == 3):\n",
    "        return 'neutral'\n",
    "    return 'positive'"
   ]
  },
  {
   "cell_type": "code",
   "execution_count": 11,
   "metadata": {},
   "outputs": [],
   "source": [
    "df['sentiment'] = df['rating'].apply(pos_neg_neut)"
   ]
  },
  {
   "cell_type": "code",
   "execution_count": 12,
   "metadata": {},
   "outputs": [
    {
     "data": {
      "text/html": [
       "<div>\n",
       "<style scoped>\n",
       "    .dataframe tbody tr th:only-of-type {\n",
       "        vertical-align: middle;\n",
       "    }\n",
       "\n",
       "    .dataframe tbody tr th {\n",
       "        vertical-align: top;\n",
       "    }\n",
       "\n",
       "    .dataframe thead th {\n",
       "        text-align: right;\n",
       "    }\n",
       "</style>\n",
       "<table border=\"1\" class=\"dataframe\">\n",
       "  <thead>\n",
       "    <tr style=\"text-align: right;\">\n",
       "      <th></th>\n",
       "      <th>stars</th>\n",
       "      <th>comment</th>\n",
       "      <th>rating</th>\n",
       "      <th>sentiment</th>\n",
       "    </tr>\n",
       "  </thead>\n",
       "  <tbody>\n",
       "    <tr>\n",
       "      <th>0</th>\n",
       "      <td>5.0 out of 5 stars</td>\n",
       "      <td>There was no bill of my order in the package.....</td>\n",
       "      <td>5</td>\n",
       "      <td>positive</td>\n",
       "    </tr>\n",
       "    <tr>\n",
       "      <th>1</th>\n",
       "      <td>5.0 out of 5 stars</td>\n",
       "      <td>I got delivery within one day.overall performa...</td>\n",
       "      <td>5</td>\n",
       "      <td>positive</td>\n",
       "    </tr>\n",
       "    <tr>\n",
       "      <th>2</th>\n",
       "      <td>1.0 out of 5 stars</td>\n",
       "      <td>Worst experience ever.. I didn't expect this f...</td>\n",
       "      <td>1</td>\n",
       "      <td>negative</td>\n",
       "    </tr>\n",
       "  </tbody>\n",
       "</table>\n",
       "</div>"
      ],
      "text/plain": [
       "                stars                                            comment  \\\n",
       "0  5.0 out of 5 stars  There was no bill of my order in the package.....   \n",
       "1  5.0 out of 5 stars  I got delivery within one day.overall performa...   \n",
       "2  1.0 out of 5 stars  Worst experience ever.. I didn't expect this f...   \n",
       "\n",
       "   rating sentiment  \n",
       "0       5  positive  \n",
       "1       5  positive  \n",
       "2       1  negative  "
      ]
     },
     "execution_count": 12,
     "metadata": {},
     "output_type": "execute_result"
    }
   ],
   "source": [
    "df.head(3)"
   ]
  },
  {
   "cell_type": "code",
   "execution_count": 13,
   "metadata": {},
   "outputs": [],
   "source": [
    "x_train, x_test, y_train, y_test = train_test_split(df.comment, df.sentiment, random_state=0 , test_size = 0.05)"
   ]
  },
  {
   "cell_type": "code",
   "execution_count": 14,
   "metadata": {},
   "outputs": [
    {
     "name": "stdout",
     "output_type": "stream",
     "text": [
      "x_train shape: (950,)\n",
      "y_train shape: (950,)\n",
      "\n",
      "x_test shape: (50,)\n",
      "y_test shape: (50,)\n",
      "\n"
     ]
    }
   ],
   "source": [
    "print(\"x_train shape: {}\".format(x_train.shape), end='\\n')\n",
    "print(\"y_train shape: {}\".format(y_train.shape), end='\\n\\n')\n",
    "print(\"x_test shape: {}\".format(x_test.shape), end='\\n')\n",
    "print(\"y_test shape: {}\".format(y_test.shape), end='\\n\\n')"
   ]
  },
  {
   "cell_type": "code",
   "execution_count": 15,
   "metadata": {},
   "outputs": [
    {
     "name": "stdout",
     "output_type": "stream",
     "text": [
      "X_train:\n",
      "<950x398 sparse matrix of type '<class 'numpy.int64'>'\n",
      "\twith 8810 stored elements in Compressed Sparse Row format>\n"
     ]
    }
   ],
   "source": [
    "vectorizer = CountVectorizer(min_df=5).fit(x_train)\n",
    "X_train = vectorizer.transform(x_train)\n",
    "print(\"X_train:\\n{}\".format(repr(X_train)))"
   ]
  },
  {
   "cell_type": "code",
   "execution_count": 16,
   "metadata": {},
   "outputs": [
    {
     "name": "stdout",
     "output_type": "stream",
     "text": [
      "Number of features: 398\n"
     ]
    }
   ],
   "source": [
    "feature_names = vectorizer.get_feature_names()\n",
    "print(\"Number of features: {}\".format(len(feature_names)))"
   ]
  },
  {
   "cell_type": "code",
   "execution_count": 17,
   "metadata": {},
   "outputs": [
    {
     "name": "stderr",
     "output_type": "stream",
     "text": [
      "G:\\anaconda\\envs\\tensorflow\\lib\\site-packages\\sklearn\\linear_model\\logistic.py:433: FutureWarning: Default solver will be changed to 'lbfgs' in 0.22. Specify a solver to silence this warning.\n",
      "  FutureWarning)\n",
      "G:\\anaconda\\envs\\tensorflow\\lib\\site-packages\\sklearn\\linear_model\\logistic.py:460: FutureWarning: Default multi_class will be changed to 'auto' in 0.22. Specify the multi_class option to silence this warning.\n",
      "  \"this warning.\", FutureWarning)\n"
     ]
    }
   ],
   "source": [
    "scores = cross_val_score(LogisticRegression(), X_train, y_train, cv=5)"
   ]
  },
  {
   "cell_type": "code",
   "execution_count": 18,
   "metadata": {},
   "outputs": [
    {
     "name": "stdout",
     "output_type": "stream",
     "text": [
      "Mean cross-validation accuracy: 0.871\n"
     ]
    }
   ],
   "source": [
    "print(\"Mean cross-validation accuracy: {:.3f}\".format(np.mean(scores)))"
   ]
  },
  {
   "cell_type": "code",
   "execution_count": 19,
   "metadata": {},
   "outputs": [
    {
     "name": "stdout",
     "output_type": "stream",
     "text": [
      "Accuracy:   0.860\n"
     ]
    }
   ],
   "source": [
    "logreg = LogisticRegression(C=0.1).fit(X_train, y_train)\n",
    "\n",
    "X_test = vectorizer.transform(x_test)\n",
    "\n",
    "log_y_pred = logreg.predict(X_test)\n",
    "\n",
    "logreg_score = accuracy_score(y_test, log_y_pred)\n",
    "print(\"Accuracy:   {:.3f}\".format(logreg_score))"
   ]
  },
  {
   "cell_type": "code",
   "execution_count": 20,
   "metadata": {},
   "outputs": [
    {
     "data": {
      "text/plain": [
       "positive    868\n",
       "negative     87\n",
       "neutral      45\n",
       "Name: sentiment, dtype: int64"
      ]
     },
     "execution_count": 20,
     "metadata": {},
     "output_type": "execute_result"
    }
   ],
   "source": [
    "df['sentiment'].value_counts()"
   ]
  },
  {
   "cell_type": "code",
   "execution_count": 21,
   "metadata": {},
   "outputs": [
    {
     "name": "stdout",
     "output_type": "stream",
     "text": [
      "Confusion matrix:\n",
      "[[ 1  0  5]\n",
      " [ 0  0  2]\n",
      " [ 0  0 42]]\n",
      "\n"
     ]
    }
   ],
   "source": [
    "log_cfm = confusion_matrix(y_test, log_y_pred)\n",
    "print(\"Confusion matrix:\")\n",
    "print(log_cfm, end='\\n\\n')"
   ]
  },
  {
   "cell_type": "code",
   "execution_count": 22,
   "metadata": {},
   "outputs": [
    {
     "data": {
      "image/png": "[encoded data removed]",
      "text/plain": [
       "<Figure size 720x720 with 2 Axes>"
      ]
     },
     "metadata": {
      "needs_background": "light"
     },
     "output_type": "display_data"
    }
   ],
   "source": [
    "plt.figure(figsize = (10,10))\n",
    "plt.imshow(log_cfm, interpolation='nearest')\n",
    "\n",
    "for i, j in itertools.product(range(log_cfm.shape[0]), range(log_cfm.shape[1])):\n",
    "    plt.text(j, i, log_cfm[i, j],\n",
    "             horizontalalignment=\"center\",\n",
    "             color=\"white\")\n",
    "\n",
    "plt.ylabel('True label (Recall)')\n",
    "plt.xlabel('Predicted label (Precision)')\n",
    "plt.title('Logistic Reg | Confusion Matrix')\n",
    "plt.colorbar()\n",
    "\n",
    "plt.show()"
   ]
  },
  {
   "cell_type": "markdown",
   "metadata": {},
   "source": [
    "Not good enough as our model is consistently predicitng almost every thing as positive...\n",
    "\n",
    "This is because people usually put 4/5 stars even when they are giving a negative or neutral review, so that their review has more chances of coming on top and being visible to people."
   ]
  },
  {
   "cell_type": "code",
   "execution_count": 23,
   "metadata": {},
   "outputs": [
    {
     "data": {
      "text/plain": [
       "array(['There was no bill of my order in the package.. I want my bill',\n",
       "       'I got delivery within one day.overall performance like face recognition, camera quality is good. Speed of phone is ausm...i love it'],\n",
       "      dtype=object)"
      ]
     },
     "execution_count": 23,
     "metadata": {},
     "output_type": "execute_result"
    }
   ],
   "source": [
    "doc_complete = df.comment.values\n",
    "doc_complete[:2]"
   ]
  },
  {
   "cell_type": "code",
   "execution_count": 37,
   "metadata": {},
   "outputs": [],
   "source": [
    "def freq_words(x, terms = 30):\n",
    "  all_words = ' '.join([text for text in x])\n",
    "  all_words = all_words.split()\n",
    "\n",
    "  fdist = FreqDist(all_words)\n",
    "  words_df = pd.DataFrame({'word':list(fdist.keys()), 'count':list(fdist.values())})\n",
    "\n",
    "  # selecting top 20 most frequent words\n",
    "  d = words_df.nlargest(columns=\"count\", n = terms) \n",
    "  plt.figure(figsize=(20,5))\n",
    "  ax = sns.barplot(data=d, x= \"word\", y = \"count\")\n",
    "  ax.set(ylabel = 'Count')\n",
    "  plt.show()"
   ]
  },
  {
   "cell_type": "code",
   "execution_count": 38,
   "metadata": {},
   "outputs": [
    {
     "data": {
      "image/png": "[encoded data removed]",
      "text/plain": [
       "<Figure size 1440x360 with 1 Axes>"
      ]
     },
     "metadata": {
      "needs_background": "light"
     },
     "output_type": "display_data"
    }
   ],
   "source": [
    "freq_words(df['comment'])"
   ]
  },
  {
   "cell_type": "code",
   "execution_count": 39,
   "metadata": {},
   "outputs": [],
   "source": [
    "df['comment'] = df['comment'].str.replace(\"[^a-zA-Z#]\", \" \")"
   ]
  },
  {
   "cell_type": "code",
   "execution_count": 41,
   "metadata": {},
   "outputs": [],
   "source": [
    "from nltk.corpus import stopwords\n",
    "stop_words = stopwords.words('english')"
   ]
  },
  {
   "cell_type": "code",
   "execution_count": 42,
   "metadata": {},
   "outputs": [],
   "source": [
    "def remove_stopwords(rev):\n",
    "    rev_new = \" \".join([i for i in rev if i not in stop_words])\n",
    "    return rev_new\n",
    "\n",
    "# remove short words (length < 3)\n",
    "df['comment'] = df['comment'].apply(lambda x: ' '.join([w for w in x.split() if len(w)>2]))\n",
    "\n",
    "# remove stopwords from the text\n",
    "reviews = [remove_stopwords(r.split()) for r in df['comment']]\n",
    "\n",
    "# make entire text lowercase\n",
    "reviews = [r.lower() for r in reviews]"
   ]
  },
  {
   "cell_type": "code",
   "execution_count": 45,
   "metadata": {},
   "outputs": [
    {
     "data": {
      "image/png": "[encoded data removed]",
      "text/plain": [
       "<Figure size 1440x360 with 1 Axes>"
      ]
     },
     "metadata": {
      "needs_background": "light"
     },
     "output_type": "display_data"
    }
   ],
   "source": [
    "freq_words(reviews, 20)"
   ]
  },
  {
   "cell_type": "markdown",
   "metadata": {},
   "source": [
    "To remove words like mobile, one plus etc, that refer to the product and dont explain any special quality."
   ]
  },
  {
   "cell_type": "code",
   "execution_count": 70,
   "metadata": {},
   "outputs": [],
   "source": [
    "\n",
    "def remove_mobile(sentence):\n",
    "    rev_new = \" \".join([i for i in sentence if i not in ['like','fast','best','good','amazing','awesome','great','the','one','phone','plus','oneplus','mobile','product']])\n",
    "    return rev_new\n",
    "reviews_wo = [remove_mobile(r.split()) for r in reviews]"
   ]
  },
  {
   "cell_type": "code",
   "execution_count": 71,
   "metadata": {},
   "outputs": [
    {
     "data": {
      "image/png": "[encoded data removed]",
      "text/plain": [
       "<Figure size 1440x360 with 1 Axes>"
      ]
     },
     "metadata": {
      "needs_background": "light"
     },
     "output_type": "display_data"
    }
   ],
   "source": [
    "freq_words(reviews_wo, 20)"
   ]
  },
  {
   "cell_type": "code",
   "execution_count": 72,
   "metadata": {},
   "outputs": [
    {
     "data": {
      "text/plain": [
       "['there bill order package want bill',\n",
       " 'got delivery within day overall performance face recognition camera quality speed ausm love']"
      ]
     },
     "execution_count": 72,
     "metadata": {},
     "output_type": "execute_result"
    }
   ],
   "source": [
    "reviews_wo[:2]"
   ]
  },
  {
   "cell_type": "code",
   "execution_count": 73,
   "metadata": {},
   "outputs": [
    {
     "name": "stdout",
     "output_type": "stream",
     "text": [
      "['got', 'delivery', 'within', 'day', 'overall', 'performance', 'face', 'recognition', 'camera', 'quality', 'speed', 'ausm', 'love']\n"
     ]
    }
   ],
   "source": [
    "tokenized_reviews = pd.Series(reviews_wo).apply(lambda x: x.split())\n",
    "print(tokenized_reviews[1])"
   ]
  },
  {
   "cell_type": "code",
   "execution_count": 74,
   "metadata": {},
   "outputs": [],
   "source": [
    "# Importing Gensim\n",
    "\n",
    "# Creating the term dictionary of our corpus, where every unique term is assigned an index. \n",
    "dictionary = corpora.Dictionary(tokenized_reviews)\n",
    "\n",
    "# Converting list of documents (corpus) into Document Term Matrix using dictionary prepared above.\n",
    "doc_term_matrix = [dictionary.doc2bow(doc) for doc in tokenized_reviews]"
   ]
  },
  {
   "cell_type": "code",
   "execution_count": 75,
   "metadata": {},
   "outputs": [],
   "source": [
    "# Creating the object for LDA model using gensim library\n",
    "Lda = gensim.models.ldamodel.LdaModel\n",
    "\n",
    "# Running and Trainign LDA model on the document term matrix.\n",
    "ldamodel = Lda(doc_term_matrix, num_topics= 8, id2word = dictionary, passes=50)"
   ]
  },
  {
   "cell_type": "code",
   "execution_count": 112,
   "metadata": {},
   "outputs": [
    {
     "name": "stdout",
     "output_type": "stream",
     "text": [
      "{0: '0.016*\"camera\" + 0.014*\"face\" + 0.014*\"recognition\" + 0.013*\"months\" + 0.013*\"ever\" + 0.011*\"performance\" + 0.010*\"using\" + 0.010*\"fingerprint\" + 0.009*\"working\" + 0.009*\"experience\"', 1: '0.066*\"nice\" + 0.026*\"camera\" + 0.014*\"perfect\" + 0.013*\"everything\" + 0.012*\"quality\" + 0.011*\"light\" + 0.011*\"low\" + 0.010*\"device\" + 0.009*\"very\" + 0.008*\"issue\"', 2: '0.020*\"money\" + 0.020*\"quality\" + 0.017*\"battery\" + 0.017*\"camera\" + 0.015*\"superb\" + 0.012*\"better\" + 0.012*\"worth\" + 0.010*\"overall\" + 0.010*\"screen\" + 0.010*\"value\"', 3: '0.015*\"super\" + 0.012*\"iphone\" + 0.009*\"features\" + 0.009*\"android\" + 0.009*\"all\" + 0.009*\"market\" + 0.009*\"camera\" + 0.008*\"use\" + 0.008*\"touch\" + 0.007*\"time\"', 4: '0.067*\"excellent\" + 0.032*\"very\" + 0.018*\"price\" + 0.010*\"dislike\" + 0.009*\"nothing\" + 0.008*\"everything\" + 0.007*\"buying\" + 0.007*\"gud\" + 0.007*\"for\" + 0.007*\"you\"', 5: '0.019*\"fingerprint\" + 0.011*\"jack\" + 0.009*\"missing\" + 0.009*\"slow\" + 0.008*\"sensor\" + 0.008*\"display\" + 0.008*\"headphone\" + 0.008*\"ever\" + 0.007*\"money\" + 0.007*\"only\"', 6: '0.020*\"camera\" + 0.013*\"finger\" + 0.013*\"sensor\" + 0.011*\"print\" + 0.010*\"speed\" + 0.009*\"slow\" + 0.009*\"screen\" + 0.007*\"features\" + 0.007*\"much\" + 0.007*\"battery\"', 7: '0.025*\"battery\" + 0.017*\"camera\" + 0.014*\"really\" + 0.011*\"love\" + 0.010*\"backup\" + 0.009*\"happy\" + 0.009*\"fingerprint\" + 0.009*\"using\" + 0.009*\"time\" + 0.008*\"buy\"'}\n",
      "{0: '0.016*\"camera\" 0.014*\"face\" 0.014*\"recognition\" 0.013*\"months\" 0.013*\"ever\" 0.011*\"performance\" 0.010*\"using\" 0.010*\"fingerprint\" 0.009*\"working\" 0.009*\"experience\"', 1: '0.066*\"nice\" 0.026*\"camera\" 0.014*\"perfect\" 0.013*\"everything\" 0.012*\"quality\" 0.011*\"light\" 0.011*\"low\" 0.010*\"device\" 0.009*\"very\" 0.008*\"issue\"', 2: '0.020*\"money\" 0.020*\"quality\" 0.017*\"battery\" 0.017*\"camera\" 0.015*\"superb\" 0.012*\"better\" 0.012*\"worth\" 0.010*\"overall\" 0.010*\"screen\" 0.010*\"value\"', 3: '0.015*\"super\" 0.012*\"iphone\" 0.009*\"features\" 0.009*\"android\" 0.009*\"all\" 0.009*\"market\" 0.009*\"camera\" 0.008*\"use\" 0.008*\"touch\" 0.007*\"time\"', 4: '0.067*\"excellent\" 0.032*\"very\" 0.018*\"price\" 0.010*\"dislike\" 0.009*\"nothing\" 0.008*\"everything\" 0.007*\"buying\" 0.007*\"gud\" 0.007*\"for\" 0.007*\"you\"', 5: '0.019*\"fingerprint\" 0.011*\"jack\" 0.009*\"missing\" 0.009*\"slow\" 0.008*\"sensor\" 0.008*\"display\" 0.008*\"headphone\" 0.008*\"ever\" 0.007*\"money\" 0.007*\"only\"', 6: '0.020*\"camera\" 0.013*\"finger\" 0.013*\"sensor\" 0.011*\"print\" 0.010*\"speed\" 0.009*\"slow\" 0.009*\"screen\" 0.007*\"features\" 0.007*\"much\" 0.007*\"battery\"', 7: '0.025*\"battery\" 0.017*\"camera\" 0.014*\"really\" 0.011*\"love\" 0.010*\"backup\" 0.009*\"happy\" 0.009*\"fingerprint\" 0.009*\"using\" 0.009*\"time\" 0.008*\"buy\"'}\n"
     ]
    }
   ],
   "source": [
    "index_topics = dict(ldamodel.print_topics(num_topics=8, num_words=10))\n",
    "print(index_topics)\n",
    "for i in index_topics.keys():\n",
    "    index_topics[i] = index_topics[i].replace(\" +\" ,\"\")\n",
    "print(index_topics)\n",
    "def value_to_dict(value):\n",
    "    value = value.split(\" \")\n",
    "    scores = dict()\n",
    "    for val in value:\n",
    "        val_split = val.split(\"*\")\n",
    "        scores[val_split[1][1:-1]] = float(val_split[0])\n",
    "    return scores"
   ]
  },
  {
   "cell_type": "code",
   "execution_count": 114,
   "metadata": {},
   "outputs": [
    {
     "data": {
      "text/plain": [
       "{'camera': 0.016,\n",
       " 'face': 0.014,\n",
       " 'recognition': 0.014,\n",
       " 'months': 0.013,\n",
       " 'ever': 0.013,\n",
       " 'performance': 0.011,\n",
       " 'using': 0.01,\n",
       " 'fingerprint': 0.01,\n",
       " 'working': 0.009,\n",
       " 'experience': 0.009}"
      ]
     },
     "execution_count": 114,
     "metadata": {},
     "output_type": "execute_result"
    }
   ],
   "source": [
    "value_to_dict(index_topics[0])"
   ]
  },
  {
   "cell_type": "code",
   "execution_count": 86,
   "metadata": {},
   "outputs": [],
   "source": [
    "import nltk \n",
    "from nltk.corpus import wordnet \n",
    "\n",
    " \n",
    "  \n",
    "def synonyms(word):\n",
    "    synonyms = [] \n",
    "    for syn in wordnet.synsets(word): \n",
    "        for l in syn.lemmas(): \n",
    "            synonyms.append(l.name()) \n",
    "    return list(set(synonyms))"
   ]
  },
  {
   "cell_type": "code",
   "execution_count": 88,
   "metadata": {},
   "outputs": [
    {
     "name": "stdout",
     "output_type": "stream",
     "text": [
      "['suspend', 'immobilize', 'stop_dead', 'frost', 'freeze', 'immobilise', 'block', 'freezing', 'freeze_down', 'halt', 'freeze_out']\n"
     ]
    }
   ],
   "source": [
    "print(synonyms(\"freeze\"))"
   ]
  },
  {
   "cell_type": "code",
   "execution_count": 89,
   "metadata": {},
   "outputs": [],
   "source": [
    "buckets = ['battery','picture','money','sound','fingerprint']\n",
    "buckets_words = [synonyms(x) for x in buckets]"
   ]
  },
  {
   "cell_type": "code",
   "execution_count": 90,
   "metadata": {},
   "outputs": [
    {
     "data": {
      "text/plain": [
       "[['electric_battery',\n",
       "  'battery',\n",
       "  'stamp_battery',\n",
       "  'barrage',\n",
       "  'shelling',\n",
       "  'assault_and_battery',\n",
       "  'bombardment',\n",
       "  'barrage_fire'],\n",
       " ['visualise',\n",
       "  'scene',\n",
       "  'delineation',\n",
       "  'see',\n",
       "  'mental_picture',\n",
       "  'depiction',\n",
       "  'image',\n",
       "  'video',\n",
       "  'characterization',\n",
       "  'motion_picture',\n",
       "  'film',\n",
       "  'figure',\n",
       "  'visualize',\n",
       "  'movie',\n",
       "  'picture_show',\n",
       "  'characterisation',\n",
       "  'pic',\n",
       "  'envision',\n",
       "  'word_picture',\n",
       "  'icon',\n",
       "  'project',\n",
       "  'motion-picture_show',\n",
       "  'impression',\n",
       "  'picture',\n",
       "  'render',\n",
       "  'moving-picture_show',\n",
       "  'painting',\n",
       "  'moving_picture',\n",
       "  'fancy',\n",
       "  'word-painting',\n",
       "  'exposure',\n",
       "  'photograph',\n",
       "  'show',\n",
       "  'ikon',\n",
       "  'flick',\n",
       "  'pictorial_matter',\n",
       "  'depict',\n",
       "  'photo'],\n",
       " ['money'],\n",
       " ['intelligent',\n",
       "  'effectual',\n",
       "  'reasoned',\n",
       "  'auditory_sensation',\n",
       "  'go',\n",
       "  'speech_sound',\n",
       "  'good',\n",
       "  'well-grounded',\n",
       "  'legal',\n",
       "  'voice',\n",
       "  'wakeless',\n",
       "  'strait',\n",
       "  'phone',\n",
       "  'levelheaded',\n",
       "  'fathom',\n",
       "  'audio',\n",
       "  'healthy',\n",
       "  'vocalise',\n",
       "  'profound',\n",
       "  'heavy',\n",
       "  'vocalize',\n",
       "  'level-headed',\n",
       "  'sound'],\n",
       " ['fingerprint', 'fingermark']]"
      ]
     },
     "execution_count": 90,
     "metadata": {},
     "output_type": "execute_result"
    }
   ],
   "source": [
    "buckets_words"
   ]
  },
  {
   "cell_type": "code",
   "execution_count": null,
   "metadata": {},
   "outputs": [],
   "source": []
  }
 ],
 "metadata": {
  "kernelspec": {
   "display_name": "Python 3",
   "language": "python",
   "name": "python3"
  },
  "language_info": {
   "codemirror_mode": {
    "name": "ipython",
    "version": 3
   },
   "file_extension": ".py",
   "mimetype": "text/x-python",
   "name": "python",
   "nbconvert_exporter": "python",
   "pygments_lexer": "ipython3",
   "version": "3.6.8"
  }
 },
 "nbformat": 4,
 "nbformat_minor": 2
}
